{
 "cells": [
  {
   "cell_type": "code",
   "execution_count": 51,
   "metadata": {},
   "outputs": [],
   "source": [
    "from ydata_profiling import ProfileReport\n",
    "import pandas as pd\n",
    "import matplotlib as pt\n",
    "import seaborn as st\n",
    "\n"
   ]
  },
  {
   "cell_type": "code",
   "execution_count": 62,
   "metadata": {},
   "outputs": [],
   "source": [
    "df = pd.read_csv('voitures.csv')"
   ]
  },
  {
   "cell_type": "code",
   "execution_count": 70,
   "metadata": {},
   "outputs": [
    {
     "data": {
      "text/plain": [
       "array([34904., 40820., 29267., 36527., 35183., 29005., 44032., 56125.,\n",
       "       16387., 24171., 26318., 32758., 41885., 24712., 21221., 29546.,\n",
       "       29808., 31955., 69284., 87539., 24433., 18796., 21483., 37592.,\n",
       "       35986., 49145., 62844., 82705., 81640., 26055., 27661., 32217.,\n",
       "       48604., 40541., 52094., 54520., 35445., 32495., 39214., 45916.,\n",
       "       43229., 37870., 46457., 38936.])"
      ]
     },
     "execution_count": 70,
     "metadata": {},
     "output_type": "execute_result"
    }
   ],
   "source": [
    "df['taille_moteur'].unique()"
   ]
  },
  {
   "cell_type": "code",
   "execution_count": 28,
   "metadata": {},
   "outputs": [],
   "source": [
    "df = df.rename(columns={'symboling': 'etat_de_route',\n",
    "                        'CarName': 'marque_voiture',\n",
    "                        'fueltype': 'carburant',\n",
    "                        'aspiration': 'turbo',\n",
    "                        'doornumber': 'nombre_portes',\n",
    "                        'carbody': 'type_vehicule',\n",
    "                        'drivewheel': 'roues_motrices', \n",
    "                        'enginelocation': 'emplacement_moteur',\n",
    "                        'wheelbase': 'empattement', \n",
    "                        'carlength': 'longueur_voiture', \n",
    "                        'carwidth': 'largeur_voiture', \n",
    "                        'carheight': 'hauteur_voiture', \n",
    "                        'curbweight': 'poids_vehicule', \n",
    "                        'enginetype': 'type_moteur', \n",
    "                        'cylindernumber': 'nombre_cylindres', \n",
    "                        'enginesize': 'taille_moteur', \n",
    "                        'fuelsystem': 'systeme_carburant', \n",
    "                        'boreratio': 'taux_alésage', 'stroke': \n",
    "                        'course', 'compressionratio': 'taux_compression', \n",
    "                        'horsepower': 'chevaux', 'peakrpm': 'tour_moteur', \n",
    "                        'citympg': 'consommation_ville', \n",
    "                        'highwaympg': 'consommation_autoroute', \n",
    "                        'price': 'prix'})"
   ]
  },
  {
   "cell_type": "code",
   "execution_count": 61,
   "metadata": {},
   "outputs": [
    {
     "name": "stderr",
     "output_type": "stream",
     "text": [
      "Summarize dataset: 100%|██████████| 325/325 [00:51<00:00,  6.31it/s, Completed]                                             \n",
      "Generate report structure: 100%|██████████| 1/1 [00:09<00:00,  9.61s/it]\n",
      "Render HTML: 100%|██████████| 1/1 [00:05<00:00,  5.60s/it]\n",
      "Export report to file: 100%|██████████| 1/1 [00:00<00:00, 24.51it/s]\n"
     ]
    }
   ],
   "source": [
    "profile=ProfileReport(df, title=\"voitures\")\n",
    "profile.to_file('Ydata.html')"
   ]
  },
  {
   "attachments": {},
   "cell_type": "markdown",
   "metadata": {},
   "source": [
    "### colonne marque_voiture : séparer les marques et les modeles."
   ]
  },
  {
   "cell_type": "code",
   "execution_count": 33,
   "metadata": {},
   "outputs": [
    {
     "name": "stderr",
     "output_type": "stream",
     "text": [
      "/tmp/ipykernel_9668/1543473447.py:3: FutureWarning: In a future version of pandas all arguments of StringMethods.split except for the argument 'pat' will be keyword-only.\n",
      "  df[['marque', 'modele']] = df['marque_voiture'].str.split(' ', 1, expand=True)\n"
     ]
    }
   ],
   "source": [
    "\n",
    "df[['marque', 'modele']] = df['marque_voiture'].str.split(' ', 1, expand=True)\n",
    "df = df.drop('marque_voiture', axis=1)\n"
   ]
  },
  {
   "cell_type": "code",
   "execution_count": 35,
   "metadata": {},
   "outputs": [],
   "source": [
    "# df.to_csv('voitures.csv')"
   ]
  },
  {
   "attachments": {},
   "cell_type": "markdown",
   "metadata": {},
   "source": [
    " ### colonne turbo : Remplacer std par standard.\n",
    "\n"
   ]
  },
  {
   "cell_type": "code",
   "execution_count": 39,
   "metadata": {},
   "outputs": [
    {
     "name": "stdout",
     "output_type": "stream",
     "text": [
      "['standard' 'turbo']\n"
     ]
    }
   ],
   "source": [
    "df['turbo'] = df['turbo'].replace('std', 'standard')\n",
    "print(df['turbo'].unique())"
   ]
  },
  {
   "attachments": {},
   "cell_type": "markdown",
   "metadata": {},
   "source": [
    "### colonne nombre_portes : nombre de roues a convertir en chiffres."
   ]
  },
  {
   "cell_type": "code",
   "execution_count": 42,
   "metadata": {},
   "outputs": [
    {
     "name": "stdout",
     "output_type": "stream",
     "text": [
      "[2 4]\n",
      "int64\n"
     ]
    }
   ],
   "source": [
    "df['nombre_portes'] = df['nombre_portes'].replace({'two': '2', 'four': '4'}).astype(int)\n",
    "print(df['nombre_portes'].unique())"
   ]
  },
  {
   "attachments": {},
   "cell_type": "markdown",
   "metadata": {},
   "source": [
    "### colonne 7 : Traduire les valeurs en français."
   ]
  },
  {
   "cell_type": "code",
   "execution_count": 45,
   "metadata": {},
   "outputs": [
    {
     "name": "stdout",
     "output_type": "stream",
     "text": [
      "['decapotable' 'hayon' 'berline' 'break' 'coupe']\n"
     ]
    }
   ],
   "source": [
    "df['type_vehicule'] = df['type_vehicule'].replace({'convertible': 'decapotable', 'hatchback': 'hayon', 'sedan': 'berline', 'wagon': 'break', 'hardtop': 'coupe'})\n",
    "\n",
    "print(df['type_vehicule'].unique())"
   ]
  },
  {
   "attachments": {},
   "cell_type": "markdown",
   "metadata": {},
   "source": [
    "\n",
    "    Convertible : décapotable\n",
    "    Hatchback : hayon (ou voiture à hayon)\n",
    "    Sedan : berline\n",
    "    Wagon : break\n",
    "    Hardtop : coupé sans montants de toit apparents (c'est-à-dire avec une ligne de toit continue de l'avant à l'arrière)"
   ]
  },
  {
   "attachments": {},
   "cell_type": "markdown",
   "metadata": {},
   "source": [
    "### colonne roues_motrices : traduire en français."
   ]
  },
  {
   "cell_type": "code",
   "execution_count": 48,
   "metadata": {},
   "outputs": [
    {
     "name": "stdout",
     "output_type": "stream",
     "text": [
      "['arriere' 'avant' '4motrice']\n"
     ]
    }
   ],
   "source": [
    "df['roues_motrices'] = df['roues_motrices'].replace({'rwd': 'arriere', 'fwd': 'avant', '4wd': '4motrice',})\n",
    "\n",
    "print(df['roues_motrices'].unique())"
   ]
  },
  {
   "cell_type": "code",
   "execution_count": 49,
   "metadata": {},
   "outputs": [],
   "source": [
    "# df.to_csv('voitures.csv')"
   ]
  },
  {
   "attachments": {},
   "cell_type": "markdown",
   "metadata": {},
   "source": [
    "### colonne emplacement_moteur : Traduire en français."
   ]
  },
  {
   "cell_type": "code",
   "execution_count": 51,
   "metadata": {},
   "outputs": [
    {
     "name": "stdout",
     "output_type": "stream",
     "text": [
      "['devant' 'derrier']\n"
     ]
    }
   ],
   "source": [
    "df['emplacement_moteur'] = df['emplacement_moteur'].replace({'front': 'devant', 'rear': 'derrier',})\n",
    "\n",
    "print(df['emplacement_moteur'].unique())"
   ]
  },
  {
   "attachments": {},
   "cell_type": "markdown",
   "metadata": {},
   "source": [
    "### colonnes empattement, longueur_voiture, largeur_voiture, hauteur_voiture, poids_vehicule : convertir en metrique"
   ]
  },
  {
   "attachments": {},
   "cell_type": "markdown",
   "metadata": {},
   "source": [
    " - colonne empattement : pouces en metres\n",
    " - colonne longueur_voiture : pouces en metres\n",
    " - colonne largeur_voiture : pouces en metres\n",
    " - colonne hauteur_voiture : pouces en metres\n",
    " - colonne poids_vehicule : livres tonnes"
   ]
  },
  {
   "cell_type": "code",
   "execution_count": 54,
   "metadata": {},
   "outputs": [],
   "source": [
    "df['empattement'] = df['empattement'] / 39.37\n",
    "df['longueur_voiture'] = df['longueur_voiture'] / 39.37\n",
    "df['largeur_voiture'] = df['largeur_voiture'] / 39.37\n",
    "df['hauteur_voiture'] = df['hauteur_voiture'] / 39.37\n",
    "df['poids_vehicule'] = df['poids_vehicule'] / 2000"
   ]
  },
  {
   "cell_type": "code",
   "execution_count": 56,
   "metadata": {},
   "outputs": [],
   "source": [
    "df['empattement'] = df['empattement'].round(2)\n",
    "df['longueur_voiture'] = df['longueur_voiture'].round(2)\n",
    "df['largeur_voiture'] = df['largeur_voiture'].round(2)\n",
    "df['hauteur_voiture'] = df['hauteur_voiture'].round(2)\n",
    "df['poids_vehicule'] = df['poids_vehicule'].round(2)\n"
   ]
  },
  {
   "cell_type": "code",
   "execution_count": 58,
   "metadata": {},
   "outputs": [],
   "source": [
    "# df.to_csv('voitures.csv')"
   ]
  },
  {
   "attachments": {},
   "cell_type": "markdown",
   "metadata": {},
   "source": [
    "### colonne type_moteur : Traduire en français."
   ]
  },
  {
   "attachments": {},
   "cell_type": "markdown",
   "metadata": {},
   "source": [
    " - 'dohc', : double ACT\n",
    " - 'ohcv', : soupapes en tête à manchon\n",
    " - 'ohc',  : ACT\n",
    " - 'l',    : ligne des cylindres\n",
    " - 'rotor',: moteur rotatif\n",
    " - 'ohcf', : soupapes en tête à flux croisés\n",
    " - 'dohcv' : double ACT à soupapes en V"
   ]
  },
  {
   "cell_type": "code",
   "execution_count": 60,
   "metadata": {},
   "outputs": [
    {
     "data": {
      "text/plain": [
       "array(['double ACT', 'soupapes en tête à manchon', 'ACT',\n",
       "       'ligne des cylindres', 'moteur rotatif',\n",
       "       'soupapes en tête à flux croisés', 'double ACT à soupapes en V'],\n",
       "      dtype=object)"
      ]
     },
     "execution_count": 60,
     "metadata": {},
     "output_type": "execute_result"
    }
   ],
   "source": [
    "df['type_moteur'] = df['type_moteur'].replace({'dohc': 'double ACT',\n",
    "                                                'ohcv': 'soupapes en tête à manchon',\n",
    "                                                'ohc': 'ACT',\n",
    "                                                'l': 'ligne des cylindres',\n",
    "                                                'rotor': 'moteur rotatif',\n",
    "                                                'ohcf': 'soupapes en tête à flux croisés',\n",
    "                                                'dohcv': 'double ACT à soupapes en V',})\n",
    "\n",
    "df['type_moteur'].unique()"
   ]
  },
  {
   "cell_type": "code",
   "execution_count": 58,
   "metadata": {},
   "outputs": [],
   "source": [
    "df[\"nombre_cylindres\"].replace({\"two\": 2, \"three\":3, \"four\":4, \"five\":5, \"six\":6, \"eight\":8, \"twelve\":12}, inplace=True)\n",
    "df.loc[:, 'taille_moteur'] = round(df.loc[:, 'taille_moteur'] * 16.387)\n",
    "df[\"systeme_carburant\"].replace({\"mpfi\": \"injection multipoint multipoint port unique\", \n",
    "                                 \"2bbl\": \"carburateur 2 corps\", \n",
    "                                 \"mfi\":\"injection carburant multipoint\", \n",
    "                                 \"1bbl\":\"carburateur 1 corps\", \"spfi\": \"injection monopoint\", \n",
    "                                 \"4bbl\":\"carburateur 4 corps\", \"idi\":\"injection indirecte\", \n",
    "                                 \"spdi\":\"injection D monopoint\"}, inplace=True)\n",
    "\n",
    "df['consommation_ville'] = 235.214583/df['consommation_ville']\n",
    "df['consommation_autoroute'] = 235.214583/df['consommation_autoroute']\n",
    "df['consommation_ville'] = df['consommation_ville'].round(2)\n",
    "df['consommation_autoroute'] = df['consommation_autoroute'].round(2)\n",
    "\n"
   ]
  },
  {
   "cell_type": "code",
   "execution_count": 66,
   "metadata": {},
   "outputs": [
    {
     "name": "stdout",
     "output_type": "stream",
     "text": [
      "prix                      1.000000\n",
      "taille_moteur             0.874151\n",
      "poids_vehicule            0.834723\n",
      "chevaux                   0.808138\n",
      "largeur_voiture           0.758105\n",
      "nombre_cylindres          0.718304\n",
      "longueur_voiture          0.682942\n",
      "empattement               0.577064\n",
      "taux_alésage              0.553174\n",
      "hauteur_voiture           0.122688\n",
      "course                    0.079443\n",
      "taux_compression          0.067984\n",
      "nombre_portes             0.031836\n",
      "etat_de_route            -0.079978\n",
      "tour_moteur              -0.085268\n",
      "car_ID                   -0.109093\n",
      "consommation_ville       -0.685723\n",
      "consommation_autoroute   -0.697418\n",
      "Name: prix, dtype: float64\n"
     ]
    },
    {
     "name": "stderr",
     "output_type": "stream",
     "text": [
      "/tmp/ipykernel_15937/3530847779.py:1: FutureWarning: The default value of numeric_only in DataFrame.corr is deprecated. In a future version, it will default to False. Select only valid columns or specify the value of numeric_only to silence this warning.\n",
      "  correlations = df.corr()['prix'].sort_values(ascending=False)\n"
     ]
    }
   ],
   "source": [
    "correlations = df.corr()['prix'].sort_values(ascending=False)\n",
    "print(correlations)\n",
    "\n"
   ]
  },
  {
   "attachments": {},
   "cell_type": "markdown",
   "metadata": {},
   "source": [
    "### Supression des colonnes inutiles au projet."
   ]
  },
  {
   "cell_type": "code",
   "execution_count": 41,
   "metadata": {},
   "outputs": [],
   "source": [
    "df['consommation_ville'] = df['consommation_ville'].round(2)\n",
    "df['consommation_autoroute'] = df['consommation_autoroute'].round(2)\n",
    "\n",
    "df[\"systeme_carburant\"].replace({\"mpfi\": \"injection multipoint multipoint port unique\", \n",
    "                                 \"'2bbl\": \"carburateur 2 corps\", \n",
    "                                 \"mfi\":\"injection carburant multipoint\", \n",
    "                                 \"1bbl\":\"carburateur 1 corps\", \"spfi\": \"injection monopoint\", \n",
    "                                 \"4bbl\":\"carburateur 4 corps\", \"idi\":\"injection indirecte\", \n",
    "                                 \"spdi\":\"injection D monopoint\"}, inplace=True)"
   ]
  },
  {
   "cell_type": "code",
   "execution_count": 40,
   "metadata": {},
   "outputs": [
    {
     "data": {
      "text/html": [
       "<div>\n",
       "<style scoped>\n",
       "    .dataframe tbody tr th:only-of-type {\n",
       "        vertical-align: middle;\n",
       "    }\n",
       "\n",
       "    .dataframe tbody tr th {\n",
       "        vertical-align: top;\n",
       "    }\n",
       "\n",
       "    .dataframe thead th {\n",
       "        text-align: right;\n",
       "    }\n",
       "</style>\n",
       "<table border=\"1\" class=\"dataframe\">\n",
       "  <thead>\n",
       "    <tr style=\"text-align: right;\">\n",
       "      <th></th>\n",
       "      <th>car_ID</th>\n",
       "      <th>etat_de_route</th>\n",
       "      <th>carburant</th>\n",
       "      <th>turbo</th>\n",
       "      <th>nombre_portes</th>\n",
       "      <th>type_vehicule</th>\n",
       "      <th>roues_motrices</th>\n",
       "      <th>emplacement_moteur</th>\n",
       "      <th>empattement</th>\n",
       "      <th>longueur_voiture</th>\n",
       "      <th>...</th>\n",
       "      <th>taux_alésage</th>\n",
       "      <th>course</th>\n",
       "      <th>taux_compression</th>\n",
       "      <th>chevaux</th>\n",
       "      <th>tour_moteur</th>\n",
       "      <th>consommation_ville</th>\n",
       "      <th>consommation_autoroute</th>\n",
       "      <th>prix</th>\n",
       "      <th>marque</th>\n",
       "      <th>modele</th>\n",
       "    </tr>\n",
       "  </thead>\n",
       "  <tbody>\n",
       "    <tr>\n",
       "      <th>0</th>\n",
       "      <td>1</td>\n",
       "      <td>3</td>\n",
       "      <td>gas</td>\n",
       "      <td>standard</td>\n",
       "      <td>2</td>\n",
       "      <td>decapotable</td>\n",
       "      <td>arriere</td>\n",
       "      <td>devant</td>\n",
       "      <td>2.25</td>\n",
       "      <td>4.29</td>\n",
       "      <td>...</td>\n",
       "      <td>3.47</td>\n",
       "      <td>2.68</td>\n",
       "      <td>9.0</td>\n",
       "      <td>111</td>\n",
       "      <td>5000</td>\n",
       "      <td>11.20</td>\n",
       "      <td>8.71</td>\n",
       "      <td>13495</td>\n",
       "      <td>alfa-romeo</td>\n",
       "      <td>giulia</td>\n",
       "    </tr>\n",
       "    <tr>\n",
       "      <th>1</th>\n",
       "      <td>2</td>\n",
       "      <td>3</td>\n",
       "      <td>gas</td>\n",
       "      <td>standard</td>\n",
       "      <td>2</td>\n",
       "      <td>decapotable</td>\n",
       "      <td>arriere</td>\n",
       "      <td>devant</td>\n",
       "      <td>2.25</td>\n",
       "      <td>4.29</td>\n",
       "      <td>...</td>\n",
       "      <td>3.47</td>\n",
       "      <td>2.68</td>\n",
       "      <td>9.0</td>\n",
       "      <td>111</td>\n",
       "      <td>5000</td>\n",
       "      <td>11.20</td>\n",
       "      <td>8.71</td>\n",
       "      <td>16500</td>\n",
       "      <td>alfa-romeo</td>\n",
       "      <td>stelvio</td>\n",
       "    </tr>\n",
       "    <tr>\n",
       "      <th>2</th>\n",
       "      <td>3</td>\n",
       "      <td>1</td>\n",
       "      <td>gas</td>\n",
       "      <td>standard</td>\n",
       "      <td>2</td>\n",
       "      <td>hayon</td>\n",
       "      <td>arriere</td>\n",
       "      <td>devant</td>\n",
       "      <td>2.40</td>\n",
       "      <td>4.35</td>\n",
       "      <td>...</td>\n",
       "      <td>2.68</td>\n",
       "      <td>3.47</td>\n",
       "      <td>9.0</td>\n",
       "      <td>154</td>\n",
       "      <td>5000</td>\n",
       "      <td>12.38</td>\n",
       "      <td>9.05</td>\n",
       "      <td>16500</td>\n",
       "      <td>alfa-romeo</td>\n",
       "      <td>Quadrifoglio</td>\n",
       "    </tr>\n",
       "    <tr>\n",
       "      <th>3</th>\n",
       "      <td>4</td>\n",
       "      <td>2</td>\n",
       "      <td>gas</td>\n",
       "      <td>standard</td>\n",
       "      <td>4</td>\n",
       "      <td>berline</td>\n",
       "      <td>avant</td>\n",
       "      <td>devant</td>\n",
       "      <td>2.53</td>\n",
       "      <td>4.49</td>\n",
       "      <td>...</td>\n",
       "      <td>3.19</td>\n",
       "      <td>3.40</td>\n",
       "      <td>10.0</td>\n",
       "      <td>102</td>\n",
       "      <td>5500</td>\n",
       "      <td>9.80</td>\n",
       "      <td>7.84</td>\n",
       "      <td>13950</td>\n",
       "      <td>audi</td>\n",
       "      <td>100 ls</td>\n",
       "    </tr>\n",
       "    <tr>\n",
       "      <th>4</th>\n",
       "      <td>5</td>\n",
       "      <td>2</td>\n",
       "      <td>gas</td>\n",
       "      <td>standard</td>\n",
       "      <td>4</td>\n",
       "      <td>berline</td>\n",
       "      <td>4motrice</td>\n",
       "      <td>devant</td>\n",
       "      <td>2.52</td>\n",
       "      <td>4.49</td>\n",
       "      <td>...</td>\n",
       "      <td>3.19</td>\n",
       "      <td>3.40</td>\n",
       "      <td>8.0</td>\n",
       "      <td>115</td>\n",
       "      <td>5500</td>\n",
       "      <td>13.07</td>\n",
       "      <td>10.69</td>\n",
       "      <td>17450</td>\n",
       "      <td>audi</td>\n",
       "      <td>100ls</td>\n",
       "    </tr>\n",
       "  </tbody>\n",
       "</table>\n",
       "<p>5 rows × 27 columns</p>\n",
       "</div>"
      ],
      "text/plain": [
       "   car_ID  etat_de_route carburant     turbo  nombre_portes type_vehicule  \\\n",
       "0       1              3       gas  standard              2   decapotable   \n",
       "1       2              3       gas  standard              2   decapotable   \n",
       "2       3              1       gas  standard              2         hayon   \n",
       "3       4              2       gas  standard              4       berline   \n",
       "4       5              2       gas  standard              4       berline   \n",
       "\n",
       "  roues_motrices emplacement_moteur  empattement  longueur_voiture  ...  \\\n",
       "0        arriere             devant         2.25              4.29  ...   \n",
       "1        arriere             devant         2.25              4.29  ...   \n",
       "2        arriere             devant         2.40              4.35  ...   \n",
       "3          avant             devant         2.53              4.49  ...   \n",
       "4       4motrice             devant         2.52              4.49  ...   \n",
       "\n",
       "   taux_alésage  course  taux_compression chevaux  tour_moteur  \\\n",
       "0          3.47    2.68               9.0     111         5000   \n",
       "1          3.47    2.68               9.0     111         5000   \n",
       "2          2.68    3.47               9.0     154         5000   \n",
       "3          3.19    3.40              10.0     102         5500   \n",
       "4          3.19    3.40               8.0     115         5500   \n",
       "\n",
       "   consommation_ville consommation_autoroute   prix      marque        modele  \n",
       "0               11.20                   8.71  13495  alfa-romeo        giulia  \n",
       "1               11.20                   8.71  16500  alfa-romeo       stelvio  \n",
       "2               12.38                   9.05  16500  alfa-romeo  Quadrifoglio  \n",
       "3                9.80                   7.84  13950        audi        100 ls  \n",
       "4               13.07                  10.69  17450        audi         100ls  \n",
       "\n",
       "[5 rows x 27 columns]"
      ]
     },
     "execution_count": 40,
     "metadata": {},
     "output_type": "execute_result"
    }
   ],
   "source": [
    "df.head()"
   ]
  },
  {
   "cell_type": "code",
   "execution_count": 31,
   "metadata": {},
   "outputs": [],
   "source": [
    "df = df.drop('Unnamed: 0', axis=1)"
   ]
  },
  {
   "cell_type": "code",
   "execution_count": 59,
   "metadata": {},
   "outputs": [],
   "source": [
    "df.to_csv('voitures.csv', index=False)\n"
   ]
  }
 ],
 "metadata": {
  "kernelspec": {
   "display_name": "ML-env",
   "language": "python",
   "name": "python3"
  },
  "language_info": {
   "codemirror_mode": {
    "name": "ipython",
    "version": 3
   },
   "file_extension": ".py",
   "mimetype": "text/x-python",
   "name": "python",
   "nbconvert_exporter": "python",
   "pygments_lexer": "ipython3",
   "version": "3.10.9"
  },
  "orig_nbformat": 4,
  "vscode": {
   "interpreter": {
    "hash": "878092cf0169fc6951e1f6c32921b75f6c36905fe66a8d7b0fe42b541b9c8705"
   }
  }
 },
 "nbformat": 4,
 "nbformat_minor": 2
}
