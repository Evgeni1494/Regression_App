{
 "cells": [
  {
   "cell_type": "code",
   "execution_count": 11,
   "metadata": {},
   "outputs": [],
   "source": [
    "from ydata_profiling import ProfileReport\n",
    "import pandas as pd\n",
    "import matplotlib as pt\n",
    "import seaborn as st\n",
    "\n"
   ]
  },
  {
   "cell_type": "code",
   "execution_count": 27,
   "metadata": {},
   "outputs": [],
   "source": [
    "df = pd.read_csv('voitures.csv')"
   ]
  },
  {
   "cell_type": "code",
   "execution_count": 28,
   "metadata": {},
   "outputs": [],
   "source": [
    "df = df.rename(columns={'symboling': 'etat_de_route',\n",
    "                        'CarName': 'marque_voiture',\n",
    "                        'fueltype': 'carburant',\n",
    "                        'aspiration': 'turbo',\n",
    "                        'doornumber': 'nombre_portes',\n",
    "                        'carbody': 'type_vehicule',\n",
    "                        'drivewheel': 'roues_motrices', \n",
    "                        'enginelocation': 'emplacement_moteur',\n",
    "                        'wheelbase': 'empattement', \n",
    "                        'carlength': 'longueur_voiture', \n",
    "                        'carwidth': 'largeur_voiture', \n",
    "                        'carheight': 'hauteur_voiture', \n",
    "                        'curbweight': 'poids_vehicule', \n",
    "                        'enginetype': 'type_moteur', \n",
    "                        'cylindernumber': 'nombre_cylindres', \n",
    "                        'enginesize': 'taille_moteur', \n",
    "                        'fuelsystem': 'systeme_carburant', \n",
    "                        'boreratio': 'taux_alésage', 'stroke': \n",
    "                        'course', 'compressionratio': 'taux_compression', \n",
    "                        'horsepower': 'chevaux', 'peakrpm': 'tour_moteur', \n",
    "                        'citympg': 'consommation_ville', \n",
    "                        'highwaympg': 'consommation_autoroute', \n",
    "                        'price': 'prix'})"
   ]
  },
  {
   "cell_type": "code",
   "execution_count": 14,
   "metadata": {},
   "outputs": [
    {
     "name": "stderr",
     "output_type": "stream",
     "text": [
      "Summarize dataset: 100%|██████████| 291/291 [00:46<00:00,  6.23it/s, Completed]                                             \n",
      "Generate report structure: 100%|██████████| 1/1 [00:10<00:00, 10.01s/it]\n",
      "Render HTML: 100%|██████████| 1/1 [00:05<00:00,  5.04s/it]\n",
      "Export report to file: 100%|██████████| 1/1 [00:00<00:00, 33.08it/s]\n"
     ]
    }
   ],
   "source": [
    "profile=ProfileReport(df, title=\"vignerons\")\n",
    "profile.to_file('Ydata.html')"
   ]
  },
  {
   "attachments": {},
   "cell_type": "markdown",
   "metadata": {},
   "source": [
    "### colonne marque_voiture : séparer les marques et les modeles."
   ]
  },
  {
   "cell_type": "code",
   "execution_count": 33,
   "metadata": {},
   "outputs": [
    {
     "name": "stderr",
     "output_type": "stream",
     "text": [
      "/tmp/ipykernel_9668/1543473447.py:3: FutureWarning: In a future version of pandas all arguments of StringMethods.split except for the argument 'pat' will be keyword-only.\n",
      "  df[['marque', 'modele']] = df['marque_voiture'].str.split(' ', 1, expand=True)\n"
     ]
    }
   ],
   "source": [
    "\n",
    "# df[['marque', 'modele']] = df['marque_voiture'].str.split(' ', 1, expand=True)\n",
    "# df = df.drop('marque_voiture', axis=1)\n"
   ]
  },
  {
   "cell_type": "code",
   "execution_count": 35,
   "metadata": {},
   "outputs": [],
   "source": [
    "# df.to_csv('voitures.csv')"
   ]
  },
  {
   "attachments": {},
   "cell_type": "markdown",
   "metadata": {},
   "source": [
    " ### colonne turbo : Remplacer std par standard.\n",
    "\n"
   ]
  },
  {
   "cell_type": "code",
   "execution_count": 39,
   "metadata": {},
   "outputs": [
    {
     "name": "stdout",
     "output_type": "stream",
     "text": [
      "['standard' 'turbo']\n"
     ]
    }
   ],
   "source": [
    "df['turbo'] = df['turbo'].replace('std', 'standard')\n",
    "print(df['turbo'].unique())"
   ]
  },
  {
   "attachments": {},
   "cell_type": "markdown",
   "metadata": {},
   "source": [
    "### colonne nombre_portes : nombre de roues a convertir en chiffres."
   ]
  },
  {
   "cell_type": "code",
   "execution_count": 42,
   "metadata": {},
   "outputs": [
    {
     "name": "stdout",
     "output_type": "stream",
     "text": [
      "[2 4]\n",
      "int64\n"
     ]
    }
   ],
   "source": [
    "df['nombre_portes'] = df['nombre_portes'].replace({'two': '2', 'four': '4'}).astype(int)\n",
    "print(df['nombre_portes'].unique())"
   ]
  },
  {
   "cell_type": "code",
   "execution_count": 43,
   "metadata": {},
   "outputs": [],
   "source": [
    "# df.to_csv('voitures.csv')"
   ]
  }
 ],
 "metadata": {
  "kernelspec": {
   "display_name": "ML-env",
   "language": "python",
   "name": "python3"
  },
  "language_info": {
   "codemirror_mode": {
    "name": "ipython",
    "version": 3
   },
   "file_extension": ".py",
   "mimetype": "text/x-python",
   "name": "python",
   "nbconvert_exporter": "python",
   "pygments_lexer": "ipython3",
   "version": "3.10.9"
  },
  "orig_nbformat": 4,
  "vscode": {
   "interpreter": {
    "hash": "878092cf0169fc6951e1f6c32921b75f6c36905fe66a8d7b0fe42b541b9c8705"
   }
  }
 },
 "nbformat": 4,
 "nbformat_minor": 2
}
