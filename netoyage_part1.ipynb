{
 "cells": [
  {
   "cell_type": "code",
   "execution_count": 1,
   "metadata": {},
   "outputs": [
    {
     "name": "stderr",
     "output_type": "stream",
     "text": [
      "/home/apprenant/miniconda3/envs/ML-env/lib/python3.10/site-packages/tqdm/auto.py:22: TqdmWarning: IProgress not found. Please update jupyter and ipywidgets. See https://ipywidgets.readthedocs.io/en/stable/user_install.html\n",
      "  from .autonotebook import tqdm as notebook_tqdm\n"
     ]
    }
   ],
   "source": [
    "from ydata_profiling import ProfileReport\n",
    "import pandas as pd\n",
    "import matplotlib as pt\n",
    "import seaborn as st\n",
    "\n"
   ]
  },
  {
   "cell_type": "code",
   "execution_count": 27,
   "metadata": {},
   "outputs": [],
   "source": [
    "df = pd.read_csv('voitures.csv')"
   ]
  },
  {
   "cell_type": "code",
   "execution_count": 28,
   "metadata": {},
   "outputs": [],
   "source": [
    "df = df.rename(columns={'symboling': 'etat_de_route',\n",
    "                        'CarName': 'marque_voiture',\n",
    "                        'fueltype': 'carburant',\n",
    "                        'aspiration': 'turbo',\n",
    "                        'doornumber': 'nombre_portes',\n",
    "                        'carbody': 'type_vehicule',\n",
    "                        'drivewheel': 'roues_motrices', \n",
    "                        'enginelocation': 'emplacement_moteur',\n",
    "                        'wheelbase': 'empattement', \n",
    "                        'carlength': 'longueur_voiture', \n",
    "                        'carwidth': 'largeur_voiture', \n",
    "                        'carheight': 'hauteur_voiture', \n",
    "                        'curbweight': 'poids_vehicule', \n",
    "                        'enginetype': 'type_moteur', \n",
    "                        'cylindernumber': 'nombre_cylindres', \n",
    "                        'enginesize': 'taille_moteur', \n",
    "                        'fuelsystem': 'systeme_carburant', \n",
    "                        'boreratio': 'taux_alésage', 'stroke': \n",
    "                        'course', 'compressionratio': 'taux_compression', \n",
    "                        'horsepower': 'chevaux', 'peakrpm': 'tour_moteur', \n",
    "                        'citympg': 'consommation_ville', \n",
    "                        'highwaympg': 'consommation_autoroute', \n",
    "                        'price': 'prix'})"
   ]
  },
  {
   "cell_type": "code",
   "execution_count": 14,
   "metadata": {},
   "outputs": [
    {
     "name": "stderr",
     "output_type": "stream",
     "text": [
      "Summarize dataset: 100%|██████████| 291/291 [00:46<00:00,  6.23it/s, Completed]                                             \n",
      "Generate report structure: 100%|██████████| 1/1 [00:10<00:00, 10.01s/it]\n",
      "Render HTML: 100%|██████████| 1/1 [00:05<00:00,  5.04s/it]\n",
      "Export report to file: 100%|██████████| 1/1 [00:00<00:00, 33.08it/s]\n"
     ]
    }
   ],
   "source": [
    "profile=ProfileReport(df, title=\"voitures\")\n",
    "profile.to_file('Ydata.html')"
   ]
  },
  {
   "attachments": {},
   "cell_type": "markdown",
   "metadata": {},
   "source": [
    "### colonne marque_voiture : séparer les marques et les modeles."
   ]
  },
  {
   "cell_type": "code",
   "execution_count": 33,
   "metadata": {},
   "outputs": [
    {
     "name": "stderr",
     "output_type": "stream",
     "text": [
      "/tmp/ipykernel_9668/1543473447.py:3: FutureWarning: In a future version of pandas all arguments of StringMethods.split except for the argument 'pat' will be keyword-only.\n",
      "  df[['marque', 'modele']] = df['marque_voiture'].str.split(' ', 1, expand=True)\n"
     ]
    }
   ],
   "source": [
    "\n",
    "df[['marque', 'modele']] = df['marque_voiture'].str.split(' ', 1, expand=True)\n",
    "df = df.drop('marque_voiture', axis=1)\n"
   ]
  },
  {
   "cell_type": "code",
   "execution_count": 35,
   "metadata": {},
   "outputs": [],
   "source": [
    "# df.to_csv('voitures.csv')"
   ]
  },
  {
   "attachments": {},
   "cell_type": "markdown",
   "metadata": {},
   "source": [
    " ### colonne turbo : Remplacer std par standard.\n",
    "\n"
   ]
  },
  {
   "cell_type": "code",
   "execution_count": 39,
   "metadata": {},
   "outputs": [
    {
     "name": "stdout",
     "output_type": "stream",
     "text": [
      "['standard' 'turbo']\n"
     ]
    }
   ],
   "source": [
    "df['turbo'] = df['turbo'].replace('std', 'standard')\n",
    "print(df['turbo'].unique())"
   ]
  },
  {
   "attachments": {},
   "cell_type": "markdown",
   "metadata": {},
   "source": [
    "### colonne nombre_portes : nombre de roues a convertir en chiffres."
   ]
  },
  {
   "cell_type": "code",
   "execution_count": 42,
   "metadata": {},
   "outputs": [
    {
     "name": "stdout",
     "output_type": "stream",
     "text": [
      "[2 4]\n",
      "int64\n"
     ]
    }
   ],
   "source": [
    "df['nombre_portes'] = df['nombre_portes'].replace({'two': '2', 'four': '4'}).astype(int)\n",
    "print(df['nombre_portes'].unique())"
   ]
  },
  {
   "attachments": {},
   "cell_type": "markdown",
   "metadata": {},
   "source": [
    "### colonne 7 : Traduire les valeurs en français."
   ]
  },
  {
   "cell_type": "code",
   "execution_count": 45,
   "metadata": {},
   "outputs": [
    {
     "name": "stdout",
     "output_type": "stream",
     "text": [
      "['decapotable' 'hayon' 'berline' 'break' 'coupe']\n"
     ]
    }
   ],
   "source": [
    "df['type_vehicule'] = df['type_vehicule'].replace({'convertible': 'decapotable', 'hatchback': 'hayon', 'sedan': 'berline', 'wagon': 'break', 'hardtop': 'coupe'})\n",
    "\n",
    "print(df['type_vehicule'].unique())"
   ]
  },
  {
   "attachments": {},
   "cell_type": "markdown",
   "metadata": {},
   "source": [
    "\n",
    "    Convertible : décapotable\n",
    "    Hatchback : hayon (ou voiture à hayon)\n",
    "    Sedan : berline\n",
    "    Wagon : break\n",
    "    Hardtop : coupé sans montants de toit apparents (c'est-à-dire avec une ligne de toit continue de l'avant à l'arrière)"
   ]
  },
  {
   "attachments": {},
   "cell_type": "markdown",
   "metadata": {},
   "source": [
    "### colonne roues_motrices : traduire en français."
   ]
  },
  {
   "cell_type": "code",
   "execution_count": 48,
   "metadata": {},
   "outputs": [
    {
     "name": "stdout",
     "output_type": "stream",
     "text": [
      "['arriere' 'avant' '4motrice']\n"
     ]
    }
   ],
   "source": [
    "df['roues_motrices'] = df['roues_motrices'].replace({'rwd': 'arriere', 'fwd': 'avant', '4wd': '4motrice',})\n",
    "\n",
    "print(df['roues_motrices'].unique())"
   ]
  },
  {
   "cell_type": "code",
   "execution_count": 49,
   "metadata": {},
   "outputs": [],
   "source": [
    "# df.to_csv('voitures.csv')"
   ]
  },
  {
   "attachments": {},
   "cell_type": "markdown",
   "metadata": {},
   "source": [
    "### colonne emplacement_moteur : Traduire en français."
   ]
  },
  {
   "cell_type": "code",
   "execution_count": 51,
   "metadata": {},
   "outputs": [
    {
     "name": "stdout",
     "output_type": "stream",
     "text": [
      "['devant' 'derrier']\n"
     ]
    }
   ],
   "source": [
    "df['emplacement_moteur'] = df['emplacement_moteur'].replace({'front': 'devant', 'rear': 'derrier',})\n",
    "\n",
    "print(df['emplacement_moteur'].unique())"
   ]
  },
  {
   "attachments": {},
   "cell_type": "markdown",
   "metadata": {},
   "source": [
    "### colonnes empattement, longueur_voiture, largeur_voiture, hauteur_voiture, poids_vehicule : convertir en metrique"
   ]
  },
  {
   "attachments": {},
   "cell_type": "markdown",
   "metadata": {},
   "source": [
    " - colonne empattement : pouces en metres\n",
    " - colonne longueur_voiture : pouces en metres\n",
    " - colonne largeur_voiture : pouces en metres\n",
    " - colonne hauteur_voiture : pouces en metres\n",
    " - colonne poids_vehicule : livres tonnes"
   ]
  },
  {
   "cell_type": "code",
   "execution_count": 54,
   "metadata": {},
   "outputs": [],
   "source": [
    "df['empattement'] = df['empattement'] / 39.37\n",
    "df['longueur_voiture'] = df['longueur_voiture'] / 39.37\n",
    "df['largeur_voiture'] = df['largeur_voiture'] / 39.37\n",
    "df['hauteur_voiture'] = df['hauteur_voiture'] / 39.37\n",
    "df['poids_vehicule'] = df['poids_vehicule'] / 2000"
   ]
  },
  {
   "cell_type": "code",
   "execution_count": 56,
   "metadata": {},
   "outputs": [],
   "source": [
    "df['empattement'] = df['empattement'].round(2)\n",
    "df['longueur_voiture'] = df['longueur_voiture'].round(2)\n",
    "df['largeur_voiture'] = df['largeur_voiture'].round(2)\n",
    "df['hauteur_voiture'] = df['hauteur_voiture'].round(2)\n",
    "df['poids_vehicule'] = df['poids_vehicule'].round(2)\n"
   ]
  },
  {
   "cell_type": "code",
   "execution_count": 58,
   "metadata": {},
   "outputs": [],
   "source": [
    "# df.to_csv('voitures.csv')"
   ]
  },
  {
   "attachments": {},
   "cell_type": "markdown",
   "metadata": {},
   "source": [
    "### colonne type_moteur : Traduire en français."
   ]
  },
  {
   "attachments": {},
   "cell_type": "markdown",
   "metadata": {},
   "source": [
    " - 'dohc', : double ACT\n",
    " - 'ohcv', : soupapes en tête à manchon\n",
    " - 'ohc',  : ACT\n",
    " - 'l',    : ligne des cylindres\n",
    " - 'rotor',: moteur rotatif\n",
    " - 'ohcf', : soupapes en tête à flux croisés\n",
    " - 'dohcv' : double ACT à soupapes en V"
   ]
  },
  {
   "cell_type": "code",
   "execution_count": 60,
   "metadata": {},
   "outputs": [
    {
     "data": {
      "text/plain": [
       "array(['double ACT', 'soupapes en tête à manchon', 'ACT',\n",
       "       'ligne des cylindres', 'moteur rotatif',\n",
       "       'soupapes en tête à flux croisés', 'double ACT à soupapes en V'],\n",
       "      dtype=object)"
      ]
     },
     "execution_count": 60,
     "metadata": {},
     "output_type": "execute_result"
    }
   ],
   "source": [
    "df['type_moteur'] = df['type_moteur'].replace({'dohc': 'double ACT',\n",
    "                                                'ohcv': 'soupapes en tête à manchon',\n",
    "                                                'ohc': 'ACT',\n",
    "                                                'l': 'ligne des cylindres',\n",
    "                                                'rotor': 'moteur rotatif',\n",
    "                                                'ohcf': 'soupapes en tête à flux croisés',\n",
    "                                                'dohcv': 'double ACT à soupapes en V',})\n",
    "\n",
    "df['type_moteur'].unique()"
   ]
  },
  {
   "cell_type": "code",
   "execution_count": 61,
   "metadata": {},
   "outputs": [],
   "source": [
    "#df.to_csv('voitures.csv')"
   ]
  }
 ],
 "metadata": {
  "kernelspec": {
   "display_name": "ML-env",
   "language": "python",
   "name": "python3"
  },
  "language_info": {
   "codemirror_mode": {
    "name": "ipython",
    "version": 3
   },
   "file_extension": ".py",
   "mimetype": "text/x-python",
   "name": "python",
   "nbconvert_exporter": "python",
   "pygments_lexer": "ipython3",
   "version": "3.10.9"
  },
  "orig_nbformat": 4,
  "vscode": {
   "interpreter": {
    "hash": "878092cf0169fc6951e1f6c32921b75f6c36905fe66a8d7b0fe42b541b9c8705"
   }
  }
 },
 "nbformat": 4,
 "nbformat_minor": 2
}
